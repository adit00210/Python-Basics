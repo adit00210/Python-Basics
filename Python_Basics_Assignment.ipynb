{
  "nbformat": 4,
  "nbformat_minor": 0,
  "metadata": {
    "colab": {
      "provenance": []
    },
    "kernelspec": {
      "name": "python3",
      "display_name": "Python 3"
    },
    "language_info": {
      "name": "python"
    }
  },
  "cells": [
    {
      "cell_type": "code",
      "execution_count": null,
      "metadata": {
        "id": "R556VKqWki2P"
      },
      "outputs": [],
      "source": []
    },
    {
      "cell_type": "markdown",
      "source": [
        " 1. What is Python, and why is it popular?\n",
        "   - Python is a high-level programming language that is used to create software, websites, and applications. It is known for its simple and easy-to-read syntax, which makes it a great choice for beginners. Python supports various programming styles, such as object-oriented, procedural, and functional programming. It is also widely used in fields like data science, artificial intelligence, web development, and automation.\n",
        "\n",
        "  - Python is popular because it is easy to learn and very flexible. It has a large community of users who create libraries and tools that make programming faster and easier. Big companies like Google, Instagram, and Netflix use Python in their projects. Its ability to handle tasks from simple scripts to complex machine learning models makes it useful for both beginners and professionals.\n",
        "\n",
        "\n",
        " 2. What is an interpreter in Python?\n",
        "   - An interpreter in Python is a program that reads and executes Python code line by line. When you write a Python program, you don’t need to compile it into machine code first. Instead, the Python interpreter takes your code, translates it into a form the computer can understand, and runs it directly. This makes testing and debugging easier because you can quickly see the result of each line of code.\n",
        "\n",
        "3. What are pre-defined keywords in Python?\n",
        "  - Pre-defined keywords in Python are special words that have specific meanings and functions in the language. These words are reserved and cannot be used for anything else, such as naming variables or functions. Examples include if, else, while, for, def, return, and True. They are essential for writing the structure and logic of Python programs.\n",
        "\n",
        "4. Can keywords be used as variable names?\n",
        "  - No, keywords cannot be used as variable names in Python. Since these words have predefined meanings in the language, using them as variable names would confuse the interpreter and cause an error. For example, you cannot name a variable for or class.\n",
        "\n",
        "5. What is mutability in Python?\n",
        " - Mutability in Python refers to whether or not an object’s value can be changed after it is created. If an object is mutable, its contents can be modified without changing its identity. If it is immutable, any change will create a new object. Lists are mutable, while strings and tuples are examples of immutable objects.\n",
        "\n",
        "6. Why are lists mutable, but tuples are immutable?\n",
        " - Lists are mutable because they are designed to store data that might change during a program’s execution. You can add, remove, or change elements in a list. Tuples, on the other hand, are immutable to ensure data safety and integrity. Once a tuple is created, its values cannot be changed, which makes it useful for fixed collections of items.\n",
        "\n",
        "7. What is the difference between “==” and “is” operators in Python?\n",
        " - The == operator checks whether two variables have the same value, even if they are different objects in memory. The is operator checks whether two variables point to the exact same object in memory. For example, a == b checks if the values of a and b are equal, while a is b checks if a and b refer to the same memory location.\n",
        "\n",
        "8. What are logical operators in Python?\n",
        " - Logical operators in Python are used to combine conditional statements. The three main logical operators are and, or, and not. They return a boolean value (True or False) based on the logic. For example, a > 10 and b < 5 will return True only if both conditions are true.\n",
        "\n",
        "9. What is type casting in Python?\n",
        " - Type casting in Python is the process of converting one data type into another. This is useful when you need to perform operations that require specific data types. For example, converting a string to an integer using int(\"5\") or an integer to a string using str(5).\n",
        "\n",
        "10. What is the difference between implicit and explicit type casting?\n",
        " - Implicit type casting is automatically done by Python when it converts one data type to another during an operation, without any user involvement. For example, 3 + 4.5 results in 7.5, where the integer 3 is implicitly converted to float. Explicit type casting is when the programmer manually converts a data type using functions like int(), float(), or str().\n",
        "\n",
        "11. What is the purpose of conditional statements in Python?\n",
        " - Conditional statements in Python are used to make decisions in a program. They allow the program to take different actions based on whether a condition is true or false. This helps in controlling the flow of the program using statements like if, elif, and else.\n",
        "\n",
        "12. How does the elif statement work?\n",
        " - The elif (short for \"else if\") statement allows you to check multiple conditions one after another. If the first if condition is false, Python moves to check the elif condition. If it is true, the associated block runs. If none of the conditions are true, the else block (if provided) runs.\n",
        "\n",
        "13. What is the difference between for and while loops?\n",
        " - A for loop is used when you know in advance how many times you want to iterate, like looping through a list or a range. A while loop is used when you want to keep looping as long as a certain condition is true, and you don’t necessarily know how many times it will run in advance.\n",
        "\n",
        "14. Describe a scenario where a while loop is more suitable than a for loop.\n",
        " - A while loop is more suitable when you don’t know how many times a loop should run. For example, if you're asking a user to enter a correct password and want to keep prompting them until they get it right, a while loop is ideal because the number of attempts is not fixed.\n"
      ],
      "metadata": {
        "id": "FyUsA22ekmJI"
      }
    },
    {
      "cell_type": "markdown",
      "source": [
        "Q1.  Write a Python program to print \"Hello, World!"
      ],
      "metadata": {
        "id": "qLqIzzZVkkGW"
      }
    },
    {
      "cell_type": "code",
      "source": [
        "print(\"Hello, World!\")\n"
      ],
      "metadata": {
        "colab": {
          "base_uri": "https://localhost:8080/"
        },
        "id": "mXU_EBzYp2pp",
        "outputId": "69cbcfae-8b5b-41c9-dc21-5b9d0617c44c"
      },
      "execution_count": 1,
      "outputs": [
        {
          "output_type": "stream",
          "name": "stdout",
          "text": [
            "Hello, World!\n"
          ]
        }
      ]
    },
    {
      "cell_type": "markdown",
      "source": [
        "Q2.  Write a Python program that displays your name and age."
      ],
      "metadata": {
        "id": "5RXKT786rOuT"
      }
    },
    {
      "cell_type": "code",
      "source": [
        "name = \"Adit\"\n",
        "age = 25\n",
        "\n",
        "print(\"My name is\", name)\n",
        "print(\"I am\", age, \"years old\")\n"
      ],
      "metadata": {
        "colab": {
          "base_uri": "https://localhost:8080/"
        },
        "id": "XTMQea6KrlQL",
        "outputId": "693cf34d-45d5-447b-c4a2-7484c2a8f6e0"
      },
      "execution_count": 2,
      "outputs": [
        {
          "output_type": "stream",
          "name": "stdout",
          "text": [
            "My name is Adit\n",
            "I am 25 years old\n"
          ]
        }
      ]
    },
    {
      "cell_type": "markdown",
      "source": [
        "Q3.Write code to print all the pre-defined keywords in Python using the keyword library"
      ],
      "metadata": {
        "id": "TngZJ94Jr0Lp"
      }
    },
    {
      "cell_type": "code",
      "source": [
        "import keyword\n",
        "\n",
        "keywords_list = keyword.kwlist\n",
        "\n",
        "print(\"Python Keywords:\")\n",
        "for kw in keywords_list:\n",
        "    print(kw)"
      ],
      "metadata": {
        "colab": {
          "base_uri": "https://localhost:8080/"
        },
        "id": "SVXP42DYsB_0",
        "outputId": "1d442239-7452-4c63-b385-7cf8f0093d67"
      },
      "execution_count": 3,
      "outputs": [
        {
          "output_type": "stream",
          "name": "stdout",
          "text": [
            "Python Keywords:\n",
            "False\n",
            "None\n",
            "True\n",
            "and\n",
            "as\n",
            "assert\n",
            "async\n",
            "await\n",
            "break\n",
            "class\n",
            "continue\n",
            "def\n",
            "del\n",
            "elif\n",
            "else\n",
            "except\n",
            "finally\n",
            "for\n",
            "from\n",
            "global\n",
            "if\n",
            "import\n",
            "in\n",
            "is\n",
            "lambda\n",
            "nonlocal\n",
            "not\n",
            "or\n",
            "pass\n",
            "raise\n",
            "return\n",
            "try\n",
            "while\n",
            "with\n",
            "yield\n"
          ]
        }
      ]
    },
    {
      "cell_type": "markdown",
      "source": [
        "Q4. Write a program that checks if a given word is a Python keyword."
      ],
      "metadata": {
        "id": "4PJhOvA2sM5M"
      }
    },
    {
      "cell_type": "code",
      "source": [
        "import keyword\n",
        "\n",
        "word = input(\"Enter a word: \")\n",
        "\n",
        "if keyword.iskeyword(word):\n",
        "    print(f\"'{word}' is a Python keyword.\")\n",
        "else:\n",
        "    print(f\"'{word}' is NOT a Python keyword.\")"
      ],
      "metadata": {
        "colab": {
          "base_uri": "https://localhost:8080/"
        },
        "id": "_QItUJ_jsam3",
        "outputId": "f5e175fd-8b2d-4cc7-9ec6-59f9c7b206f6"
      },
      "execution_count": 5,
      "outputs": [
        {
          "output_type": "stream",
          "name": "stdout",
          "text": [
            "Enter a word: False\n",
            "'False' is a Python keyword.\n"
          ]
        }
      ]
    },
    {
      "cell_type": "markdown",
      "source": [
        "Q5.. Create a list and tuple in Python, and demonstrate how attempting to change an element works differently\n",
        "for each."
      ],
      "metadata": {
        "id": "RaUs6Tixspob"
      }
    },
    {
      "cell_type": "code",
      "source": [
        "my_list = [10, 20, 30]\n",
        "my_list[1] = 99\n",
        "print(\"Modified list:\", my_list)\n",
        "\n",
        "my_tuple = (10, 20, 30)\n",
        "my_tuple[1] = 99"
      ],
      "metadata": {
        "colab": {
          "base_uri": "https://localhost:8080/",
          "height": 193
        },
        "id": "ilJj2VAds29V",
        "outputId": "164b71b5-c289-4b7a-a7f1-e5ab57e2602f"
      },
      "execution_count": 7,
      "outputs": [
        {
          "output_type": "stream",
          "name": "stdout",
          "text": [
            "Modified list: [10, 99, 30]\n"
          ]
        },
        {
          "output_type": "error",
          "ename": "TypeError",
          "evalue": "'tuple' object does not support item assignment",
          "traceback": [
            "\u001b[0;31m---------------------------------------------------------------------------\u001b[0m",
            "\u001b[0;31mTypeError\u001b[0m                                 Traceback (most recent call last)",
            "\u001b[0;32m<ipython-input-7-219427990>\u001b[0m in \u001b[0;36m<cell line: 0>\u001b[0;34m()\u001b[0m\n\u001b[1;32m      4\u001b[0m \u001b[0;34m\u001b[0m\u001b[0m\n\u001b[1;32m      5\u001b[0m \u001b[0mmy_tuple\u001b[0m \u001b[0;34m=\u001b[0m \u001b[0;34m(\u001b[0m\u001b[0;36m10\u001b[0m\u001b[0;34m,\u001b[0m \u001b[0;36m20\u001b[0m\u001b[0;34m,\u001b[0m \u001b[0;36m30\u001b[0m\u001b[0;34m)\u001b[0m\u001b[0;34m\u001b[0m\u001b[0;34m\u001b[0m\u001b[0m\n\u001b[0;32m----> 6\u001b[0;31m \u001b[0mmy_tuple\u001b[0m\u001b[0;34m[\u001b[0m\u001b[0;36m1\u001b[0m\u001b[0;34m]\u001b[0m \u001b[0;34m=\u001b[0m \u001b[0;36m99\u001b[0m\u001b[0;34m\u001b[0m\u001b[0;34m\u001b[0m\u001b[0m\n\u001b[0m",
            "\u001b[0;31mTypeError\u001b[0m: 'tuple' object does not support item assignment"
          ]
        }
      ]
    },
    {
      "cell_type": "markdown",
      "source": [
        "Q6. Write a function to demonstrate the behavior of mutable and immutable arguments."
      ],
      "metadata": {
        "id": "5D3rnMjYtSuq"
      }
    },
    {
      "cell_type": "code",
      "source": [
        "def modify_args(mutable_arg, immutable_arg):\n",
        "    mutable_arg.append(100)\n",
        "    immutable_arg += 10\n",
        "    print(\"Inside function - mutable:\", mutable_arg)\n",
        "    print(\"Inside function - immutable:\", immutable_arg)\n",
        "\n",
        "my_list = [1, 2, 3]\n",
        "my_int = 5\n",
        "\n",
        "modify_args(my_list, my_int)\n",
        "\n",
        "print(\"Outside function - mutable:\", my_list)\n",
        "print(\"Outside function - immutable:\", my_int)"
      ],
      "metadata": {
        "colab": {
          "base_uri": "https://localhost:8080/"
        },
        "id": "1Wtzr8K9tVGf",
        "outputId": "516b9d7a-c8c3-4002-ec2a-86eb6c7a059a"
      },
      "execution_count": 8,
      "outputs": [
        {
          "output_type": "stream",
          "name": "stdout",
          "text": [
            "Inside function - mutable: [1, 2, 3, 100]\n",
            "Inside function - immutable: 15\n",
            "Outside function - mutable: [1, 2, 3, 100]\n",
            "Outside function - immutable: 5\n"
          ]
        }
      ]
    },
    {
      "cell_type": "markdown",
      "source": [
        "Q7. Write a program that performs basic arithmetic operations on two user-input numbers."
      ],
      "metadata": {
        "id": "f1sq9lK5tmk8"
      }
    },
    {
      "cell_type": "code",
      "source": [
        "num1 = float(input(\"Enter first number: \"))\n",
        "num2 = float(input(\"Enter second number: \"))\n",
        "\n",
        "print(\"Addition:\", num1 + num2)\n",
        "print(\"Subtraction:\", num1 - num2)\n",
        "print(\"Multiplication:\", num1 * num2)\n",
        "\n",
        "if num2 != 0:\n",
        "    print(\"Division:\", num1 / num2)\n",
        "else:\n",
        "    print(\"Division: Cannot divide by zero\")"
      ],
      "metadata": {
        "colab": {
          "base_uri": "https://localhost:8080/"
        },
        "id": "cnQ5_cvEts7k",
        "outputId": "4f6c6afe-ca15-4ab8-f4c7-9c433e69b1db"
      },
      "execution_count": 9,
      "outputs": [
        {
          "output_type": "stream",
          "name": "stdout",
          "text": [
            "Enter first number: 2\n",
            "Enter second number: 3\n",
            "Addition: 5.0\n",
            "Subtraction: -1.0\n",
            "Multiplication: 6.0\n",
            "Division: 0.6666666666666666\n"
          ]
        }
      ]
    },
    {
      "cell_type": "markdown",
      "source": [
        "Q8. . Write a program to demonstrate the use of logical operators."
      ],
      "metadata": {
        "id": "R_6EqQYtt-2-"
      }
    },
    {
      "cell_type": "code",
      "source": [
        "a = 10\n",
        "b = 5\n",
        "c = 15\n",
        "\n",
        "print(a > b and c > a)\n",
        "print(a < b or c > a)\n",
        "print(not(a < b))"
      ],
      "metadata": {
        "colab": {
          "base_uri": "https://localhost:8080/"
        },
        "id": "yruaRZVduHwc",
        "outputId": "d08b6b56-9560-42da-8c55-41acb2292b52"
      },
      "execution_count": 10,
      "outputs": [
        {
          "output_type": "stream",
          "name": "stdout",
          "text": [
            "True\n",
            "True\n",
            "True\n"
          ]
        }
      ]
    },
    {
      "cell_type": "markdown",
      "source": [
        "Q9. Write a Python program to convert user input from string to integer, float, and boolean types."
      ],
      "metadata": {
        "id": "t_RYCtIDuTxj"
      }
    },
    {
      "cell_type": "code",
      "source": [
        "user_input = input(\"Enter a value: \")\n",
        "\n",
        "int_value = int(user_input)\n",
        "float_value = float(user_input)\n",
        "bool_value = bool(user_input)\n",
        "\n",
        "print(\"Integer:\", int_value)\n",
        "print(\"Float:\", float_value)\n",
        "print(\"Boolean:\", bool_value)"
      ],
      "metadata": {
        "colab": {
          "base_uri": "https://localhost:8080/"
        },
        "id": "zrOhRPwNuV50",
        "outputId": "4d67c715-d70a-41d8-f0d3-3e306858e6e1"
      },
      "execution_count": 11,
      "outputs": [
        {
          "output_type": "stream",
          "name": "stdout",
          "text": [
            "Enter a value: 2\n",
            "Integer: 2\n",
            "Float: 2.0\n",
            "Boolean: True\n"
          ]
        }
      ]
    },
    {
      "cell_type": "markdown",
      "source": [
        "Q10. Write code to demonstrate type casting with list elements"
      ],
      "metadata": {
        "id": "tQyUlGUIufjL"
      }
    },
    {
      "cell_type": "code",
      "source": [
        "str_list = ['1', '2', '3', '4']\n",
        "\n",
        "int_list = [int(x) for x in str_list]\n",
        "\n",
        "print(\"Original list (strings):\", str_list)\n",
        "print(\"Converted list (integers):\", int_list)"
      ],
      "metadata": {
        "colab": {
          "base_uri": "https://localhost:8080/"
        },
        "id": "kjstbodDulzk",
        "outputId": "9a198efe-5c5c-47af-db9c-23527d572f31"
      },
      "execution_count": 12,
      "outputs": [
        {
          "output_type": "stream",
          "name": "stdout",
          "text": [
            "Original list (strings): ['1', '2', '3', '4']\n",
            "Converted list (integers): [1, 2, 3, 4]\n"
          ]
        }
      ]
    },
    {
      "cell_type": "markdown",
      "source": [
        "Q11. Write a program that checks if a number is positive, negative, or zero"
      ],
      "metadata": {
        "id": "P6_tt1iiuub0"
      }
    },
    {
      "cell_type": "code",
      "source": [
        "num = float(input(\"Enter a number: \"))\n",
        "\n",
        "if num > 0:\n",
        "    print(\"The number is positive.\")\n",
        "elif num < 0:\n",
        "    print(\"The number is negative.\")\n",
        "else:\n",
        "    print(\"The number is zero.\")"
      ],
      "metadata": {
        "colab": {
          "base_uri": "https://localhost:8080/"
        },
        "id": "L3oSJXwlu2A4",
        "outputId": "38c39543-2711-4eea-f343-1e3a8ca94eec"
      },
      "execution_count": 13,
      "outputs": [
        {
          "output_type": "stream",
          "name": "stdout",
          "text": [
            "Enter a number: 3\n",
            "The number is positive.\n"
          ]
        }
      ]
    },
    {
      "cell_type": "markdown",
      "source": [
        "Q12.Write a for loop to print numbers from 1 to 10."
      ],
      "metadata": {
        "id": "JIocgREgu6ZL"
      }
    },
    {
      "cell_type": "code",
      "source": [
        "for i in range(1, 11):\n",
        "    print(i)"
      ],
      "metadata": {
        "colab": {
          "base_uri": "https://localhost:8080/"
        },
        "id": "LFHrQ30mu-J4",
        "outputId": "476a1169-6ee5-4be1-cf22-db9fe0f97e8b"
      },
      "execution_count": 14,
      "outputs": [
        {
          "output_type": "stream",
          "name": "stdout",
          "text": [
            "1\n",
            "2\n",
            "3\n",
            "4\n",
            "5\n",
            "6\n",
            "7\n",
            "8\n",
            "9\n",
            "10\n"
          ]
        }
      ]
    },
    {
      "cell_type": "markdown",
      "source": [
        "Q13.  Write a Python program to find the sum of all even numbers between 1 and 50."
      ],
      "metadata": {
        "id": "N9EvKfBbvHKg"
      }
    },
    {
      "cell_type": "code",
      "source": [
        "total = 0\n",
        "\n",
        "for i in range(1, 51):\n",
        "    if i % 2 == 0:\n",
        "        total += i\n",
        "\n",
        "print(\"Sum of even numbers from 1 to 50 is:\", total)"
      ],
      "metadata": {
        "colab": {
          "base_uri": "https://localhost:8080/"
        },
        "id": "vMAHEZVFvJTs",
        "outputId": "3b31c315-6391-479b-9b8c-f950df35379d"
      },
      "execution_count": 15,
      "outputs": [
        {
          "output_type": "stream",
          "name": "stdout",
          "text": [
            "Sum of even numbers from 1 to 50 is: 650\n"
          ]
        }
      ]
    },
    {
      "cell_type": "markdown",
      "source": [
        "Q14. Write a program to reverse a string using a while loop."
      ],
      "metadata": {
        "id": "Pvw9K6MavSkg"
      }
    },
    {
      "cell_type": "code",
      "source": [
        "text = input(\"Enter a string: \")\n",
        "i = -1\n",
        "\n",
        "while -i <= len(text):\n",
        "    print(text[i], end=\"\")\n",
        "    i -= 1"
      ],
      "metadata": {
        "colab": {
          "base_uri": "https://localhost:8080/"
        },
        "id": "qbmkD7eTvUip",
        "outputId": "b712979d-9716-469f-be42-ceced79b6dcc"
      },
      "execution_count": 16,
      "outputs": [
        {
          "output_type": "stream",
          "name": "stdout",
          "text": [
            "Enter a string: adit\n",
            "tida"
          ]
        }
      ]
    },
    {
      "cell_type": "markdown",
      "source": [
        "Q15. Write a Python program to calculate the factorial of a number provided by the user using a while loop."
      ],
      "metadata": {
        "id": "Pgn2sZjBvm6A"
      }
    },
    {
      "cell_type": "code",
      "source": [
        "num = int(input(\"Enter a number: \"))\n",
        "factorial = 1\n",
        "i = 1\n",
        "\n",
        "while i <= num:\n",
        "    factorial *= i\n",
        "    i += 1\n",
        "\n",
        "print(\"Factorial of\", num, \"is\", factorial)"
      ],
      "metadata": {
        "colab": {
          "base_uri": "https://localhost:8080/"
        },
        "id": "BvCQtQEwvwDG",
        "outputId": "c4fd5fc1-da2f-41fe-b613-ba756cdf8b8d"
      },
      "execution_count": 17,
      "outputs": [
        {
          "output_type": "stream",
          "name": "stdout",
          "text": [
            "Enter a number: 4\n",
            "Factorial of 4 is 24\n"
          ]
        }
      ]
    }
  ]
}